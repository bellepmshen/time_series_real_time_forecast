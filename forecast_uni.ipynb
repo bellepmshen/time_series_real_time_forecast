{
 "cells": [
  {
   "cell_type": "code",
   "execution_count": 2,
   "source": [
    "import datetime as dt\n",
    "from time_series import Time_Series"
   ],
   "outputs": [
    {
     "output_type": "stream",
     "name": "stderr",
     "text": [
      "/Users/belleshen/opt/anaconda3/lib/python3.8/site-packages/statsmodels/tools/_testing.py:19: FutureWarning: pandas.util.testing is deprecated. Use the functions in the public API at pandas.testing instead.\n",
      "  import pandas.util.testing as tm\n"
     ]
    }
   ],
   "metadata": {}
  },
  {
   "cell_type": "code",
   "execution_count": 3,
   "source": [
    "def execute():\n",
    "    \"\"\"This function is to execute all the functions to get the next minute open \n",
    "    price.\n",
    "\n",
    "    Returns\n",
    "    -------\n",
    "    str\n",
    "        a message to show the next minute open price & the total processing time\n",
    "    \"\"\"\n",
    "    try:\n",
    "        t1 = dt.datetime.now()\n",
    "        ts = Time_Series()\n",
    "        # you can change the ticker symbol for getting the forecast from specific company\n",
    "        stock = ts.get_data('aapl') \n",
    "        train, test = ts.split()\n",
    "        train_1, test_1 = ts.make_log()\n",
    "        params = ts.generate_params()\n",
    "        rmse_box, best_pdq = ts.rmse_calculation()\n",
    "        print(ts.final_training())\n",
    "        t2 = dt.datetime.now()\n",
    "        \n",
    "        return f\"total processing time: {(t2-t1).seconds} seconds\"\n",
    "    \n",
    "    except Exception as err:\n",
    "        print(err) \n",
    "\n",
    "execute()"
   ],
   "outputs": [
    {
     "output_type": "stream",
     "name": "stdout",
     "text": [
      "The last timestamp of the data (New York timezone): 2022-06-29 16:00:00\n",
      "The open price will be $139.22 in the next minute.\n"
     ]
    },
    {
     "output_type": "execute_result",
     "data": {
      "text/plain": [
       "'total processing time: 2 seconds'"
      ]
     },
     "metadata": {},
     "execution_count": 3
    }
   ],
   "metadata": {}
  },
  {
   "cell_type": "code",
   "execution_count": null,
   "source": [],
   "outputs": [],
   "metadata": {}
  }
 ],
 "metadata": {
  "orig_nbformat": 4,
  "language_info": {
   "name": "python",
   "version": "3.8.5",
   "mimetype": "text/x-python",
   "codemirror_mode": {
    "name": "ipython",
    "version": 3
   },
   "pygments_lexer": "ipython3",
   "nbconvert_exporter": "python",
   "file_extension": ".py"
  },
  "kernelspec": {
   "name": "python3",
   "display_name": "Python 3.8.5 64-bit ('base': conda)"
  },
  "interpreter": {
   "hash": "0c2a3eb2b4bb7385d62df44902d8a819643fb968efd7b2f0d85bc574e8a1e85b"
  }
 },
 "nbformat": 4,
 "nbformat_minor": 2
}